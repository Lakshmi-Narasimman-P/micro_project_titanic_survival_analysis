import pandas as pd
import matplotlib.pyplot as plt
import seaborn as sns
path="/content/Titanic-Dataset.csv"
data=pd.read_csv(path)
data
# @title Survived

from matplotlib import pyplot as plt
data['Survived'].plot(kind='hist', bins=20, title='Survived')
plt.gca().spines[['top', 'right',]].set_visible(False)
data.describe().round(2)
data.info()
def vis(x):
    sur=data[data['Survived']==1][x].value_counts()
    dead=data[data['Survived']==1][x].value_counts()
    df=pd.DataFrame([sur,dead])
    df.index=['sur','dead']
    df.plot(kind='bar',stacked=True,title=x)
for i in ['Pclass','Embarked','Sex']:
    vis(i)
data["Age"]=data["Age"].fillna(data['Age'].mean())
data['Age']
facet = sns.FacetGrid(data, hue="Survived",aspect=4)
facet.map(sns.kdeplot,"Age",shade=True)
facet.set(xlim=(0,data['Age'].max()))
facet.add_legend()

plt.show()
df_2 = data["Age"]
df_2 = pd.DataFrame(df_2)
df_2.columns=["Age"]
for i in range(891):

    a=df_2['Age'].get(i)
    if a <=20:
        df_2['Age'][i]=0
    elif a <=30:
        df_2['Age'][i]=1
    elif a <=40:
        df_2['Age'][i]=2
    elif a <=50:
        df_2['Age'][i]=3
    else    :
        df_2['Age'][i]=4
data["Age"]=df_2['Age']
vis("Age")
data.sample(2)
data.dtypes
data['Embarked']=data['Embarked'].map({"S":0,"C":1,"Q":2})
data
# @title PassengerId vs Survived

from matplotlib import pyplot as plt
data.plot(kind='scatter', x='PassengerId', y='Survived', s=32, alpha=.8)
plt.gca().spines[['top', 'right',]].set_visible(False)
data['Cabin'].isna().sum()
data['Cabin'].unique()
cabin_mapping = {"A":0,"B":0.4,"C":0.8,"D":1.2,"E":1.6,"F":2,"G":2.4,"T":2.8}
data['Cabin']=data['Cabin'].map(cabin_mapping)
data["Cabin"].fillna(data.groupby("Pclass")["Cabin"].transform("median"),inplace=True)
data.isna().sum()
data['Embarked']=data['Embarked'].fillna(0)
x=[i for i in data if data[i].dtypes=='object']
x
data=data.drop(x,axis=1)
data=data.drop(['Cabin'],axis=1)
y=data['Survived']
X=data.drop('Survived',axis=1)
X
# @title PassengerId

from matplotlib import pyplot as plt
X['PassengerId'].plot(kind='hist', bins=20, title='PassengerId')
plt.gca().spines[['top', 'right',]].set_visible(False)
from sklearn.linear_model import LogisticRegression

LR=LogisticRegression()
LR.fit(X,y)
LR.score(X,y)
yp=LR.predict(X)
yp
from sklearn.metrics import mean_squared_error
msq=mean_squared_error(y,yp)
msq
from sklearn.svm import SVC
clf=SVC()
clf.fit(X,y)
clf_score=clf.score(X,y)
y_predict=clf.predict(X)
y_predict
from sklearn.metrics import mean_squared_error
msqsvc=mean_squared_error(y,y_predict)
msqsvc
clf_score
from sklearn.model_selection import cross_val_score
from sklearn.model_selection import KFold
k_fold = KFold(n_splits = 10, shuffle=True, random_state = 0)
clf = SVC()
scoring = "accuracy"
score = cross_val_score(clf, data, y, cv=k_fold, n_jobs=1, scoring = scoring)
print(score)
clf.fit(X,y)
clf.score(X,y)
from sklearn.tree import DecisionTreeClassifier
DT_clf=DecisionTreeClassifier()
DT_clf.fit(X,y)
DT_score=DT_clf.score(X,y)
DT_predict=DT_clf.predict(X)
DT_predict
DTMSE=mean_squared_error(y,DT_predict)
DTMSE
print(DT_score*100,'% is a score of DecisionTreeClassifier ')
scoring = "accuracy"
score = cross_val_score(DT_clf, data, y, cv=k_fold, n_jobs=1, scoring = scoring)
print(score)
