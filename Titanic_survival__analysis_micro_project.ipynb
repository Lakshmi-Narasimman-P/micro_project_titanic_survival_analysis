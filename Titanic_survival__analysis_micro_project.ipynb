{
  "metadata": {
    "kernelspec": {
      "display_name": "Python 3 (ipykernel)",
      "language": "python",
      "name": "python3"
    },
    "language_info": {
      "codemirror_mode": {
        "name": "ipython",
        "version": 3
      },
      "file_extension": ".py",
      "mimetype": "text/x-python",
      "name": "python",
      "nbconvert_exporter": "python",
      "pygments_lexer": "ipython3",
      "version": "3.9.12"
    },
    "kaggle": {
      "accelerator": "none",
      "dataSources": [
        {
          "sourceId": 3136,
          "databundleVersionId": 26502,
          "sourceType": "competition"
        }
      ],
      "isInternetEnabled": true,
      "language": "python",
      "sourceType": "notebook",
      "isGpuEnabled": false
    },
    "colab": {
      "provenance": [],
      "include_colab_link": true
    }
  },
  "nbformat_minor": 0,
  "nbformat": 4,
  "cells": [
    {
      "cell_type": "markdown",
      "metadata": {
        "id": "view-in-github",
        "colab_type": "text"
      },
      "source": [
        "<a href=\"https://colab.research.google.com/github/Lakshmi-Narasimman-P/micro_project_titanic_survival_analysis/blob/main/Titanic_survival__analysis_micro_project.ipynb\" target=\"_parent\"><img src=\"https://colab.research.google.com/assets/colab-badge.svg\" alt=\"Open In Colab\"/></a>"
      ]
    },
    {
      "cell_type": "code",
      "source": [
        "import pandas as pd\n",
        "import matplotlib.pyplot as plt\n",
        "import seaborn as sns"
      ],
      "metadata": {
        "id": "1or_actgGOQg"
      },
      "execution_count": 70,
      "outputs": []
    },
    {
      "cell_type": "code",
      "source": [
        "path=\"/content/Titanic-Dataset.csv\"\n",
        "data=pd.read_csv(path)\n",
        "data"
      ],
      "metadata": {
        "id": "6SNh7IbWGOQk"
      },
      "execution_count": null,
      "outputs": []
    },
    {
      "source": [
        "# @title Survived\n",
        "\n",
        "from matplotlib import pyplot as plt\n",
        "data['Survived'].plot(kind='hist', bins=20, title='Survived')\n",
        "plt.gca().spines[['top', 'right',]].set_visible(False)"
      ],
      "cell_type": "code",
      "execution_count": null,
      "outputs": [],
      "metadata": {
        "id": "Pqy9x63qUPk_"
      }
    },
    {
      "cell_type": "code",
      "source": [
        "data.describe().round(2)"
      ],
      "metadata": {
        "id": "rGjLS79dGOQo"
      },
      "execution_count": null,
      "outputs": []
    },
    {
      "cell_type": "code",
      "source": [
        "data.info()"
      ],
      "metadata": {
        "id": "DB8wx974GOQr"
      },
      "execution_count": null,
      "outputs": []
    },
    {
      "cell_type": "code",
      "source": [
        "def vis(x):\n",
        "    sur=data[data['Survived']==1][x].value_counts()\n",
        "    dead=data[data['Survived']==1][x].value_counts()\n",
        "    df=pd.DataFrame([sur,dead])\n",
        "    df.index=['sur','dead']\n",
        "    df.plot(kind='bar',stacked=True,title=x)\n",
        "for i in ['Pclass','Embarked','Sex']:\n",
        "    vis(i)"
      ],
      "metadata": {
        "id": "-7GVfYDdGOQv"
      },
      "execution_count": null,
      "outputs": []
    },
    {
      "cell_type": "code",
      "source": [
        "data[\"Age\"]=data[\"Age\"].fillna(data['Age'].mean())"
      ],
      "metadata": {
        "id": "DuhhiCCrGOQz"
      },
      "execution_count": 75,
      "outputs": []
    },
    {
      "cell_type": "code",
      "source": [
        "data['Age']"
      ],
      "metadata": {
        "id": "00Par6qbGOQ3"
      },
      "execution_count": null,
      "outputs": []
    },
    {
      "cell_type": "code",
      "source": [
        "facet = sns.FacetGrid(data, hue=\"Survived\",aspect=4)\n",
        "facet.map(sns.kdeplot,\"Age\",shade=True)\n",
        "facet.set(xlim=(0,data['Age'].max()))\n",
        "facet.add_legend()\n",
        "\n",
        "plt.show()"
      ],
      "metadata": {
        "id": "zlmo9wCwGOQ7"
      },
      "execution_count": null,
      "outputs": []
    },
    {
      "cell_type": "code",
      "source": [
        "df_2 = data[\"Age\"]\n",
        "df_2 = pd.DataFrame(df_2)\n",
        "df_2.columns=[\"Age\"]\n",
        "for i in range(891):\n",
        "\n",
        "    a=df_2['Age'].get(i)\n",
        "    if a <=20:\n",
        "        df_2['Age'][i]=0\n",
        "    elif a <=30:\n",
        "        df_2['Age'][i]=1\n",
        "    elif a <=40:\n",
        "        df_2['Age'][i]=2\n",
        "    elif a <=50:\n",
        "        df_2['Age'][i]=3\n",
        "    else    :\n",
        "        df_2['Age'][i]=4\n",
        "\n"
      ],
      "metadata": {
        "id": "pp1XAGTgGOQ-"
      },
      "execution_count": 78,
      "outputs": []
    },
    {
      "cell_type": "code",
      "source": [
        "data[\"Age\"]=df_2['Age']"
      ],
      "metadata": {
        "id": "5ldtxEnEGORB"
      },
      "execution_count": 79,
      "outputs": []
    },
    {
      "cell_type": "code",
      "source": [
        "vis(\"Age\")"
      ],
      "metadata": {
        "id": "ZMHIgEwCGORD"
      },
      "execution_count": null,
      "outputs": []
    },
    {
      "cell_type": "code",
      "source": [
        "data.sample(2)"
      ],
      "metadata": {
        "id": "nb4BICySGORF"
      },
      "execution_count": null,
      "outputs": []
    },
    {
      "cell_type": "code",
      "source": [
        "data.dtypes"
      ],
      "metadata": {
        "id": "6Ci5_2cJGORH"
      },
      "execution_count": null,
      "outputs": []
    },
    {
      "cell_type": "code",
      "source": [
        "data['Embarked']=data['Embarked'].map({\"S\":0,\"C\":1,\"Q\":2})"
      ],
      "metadata": {
        "id": "bqNpFM5ZGORJ"
      },
      "execution_count": 83,
      "outputs": []
    },
    {
      "cell_type": "code",
      "source": [
        "data"
      ],
      "metadata": {
        "id": "Bldy7iT0GORL"
      },
      "execution_count": null,
      "outputs": []
    },
    {
      "source": [
        "# @title PassengerId vs Survived\n",
        "\n",
        "from matplotlib import pyplot as plt\n",
        "data.plot(kind='scatter', x='PassengerId', y='Survived', s=32, alpha=.8)\n",
        "plt.gca().spines[['top', 'right',]].set_visible(False)"
      ],
      "cell_type": "code",
      "execution_count": null,
      "outputs": [],
      "metadata": {
        "id": "ChSiHf8Efi1R"
      }
    },
    {
      "cell_type": "code",
      "source": [
        "data['Cabin'].isna().sum()"
      ],
      "metadata": {
        "id": "UZ-wGkkaGORN"
      },
      "execution_count": null,
      "outputs": []
    },
    {
      "cell_type": "code",
      "source": [
        "data['Cabin'].unique()"
      ],
      "metadata": {
        "id": "ZQZoqf7QGORO"
      },
      "execution_count": null,
      "outputs": []
    },
    {
      "cell_type": "code",
      "source": [
        "cabin_mapping = {\"A\":0,\"B\":0.4,\"C\":0.8,\"D\":1.2,\"E\":1.6,\"F\":2,\"G\":2.4,\"T\":2.8}\n",
        "data['Cabin']=data['Cabin'].map(cabin_mapping)"
      ],
      "metadata": {
        "id": "QzdqIEjsGORQ"
      },
      "execution_count": 89,
      "outputs": []
    },
    {
      "cell_type": "code",
      "source": [
        "data[\"Cabin\"].fillna(data.groupby(\"Pclass\")[\"Cabin\"].transform(\"median\"),inplace=True)"
      ],
      "metadata": {
        "id": "SJsc4JEzGORR"
      },
      "execution_count": 90,
      "outputs": []
    },
    {
      "cell_type": "code",
      "source": [
        "data.isna().sum()"
      ],
      "metadata": {
        "id": "wlGVTKfOGORT"
      },
      "execution_count": null,
      "outputs": []
    },
    {
      "cell_type": "code",
      "source": [
        "data['Embarked']=data['Embarked'].fillna(0)"
      ],
      "metadata": {
        "id": "bXm6kSZ3GORV"
      },
      "execution_count": 95,
      "outputs": []
    },
    {
      "cell_type": "code",
      "source": [
        "x=[i for i in data if data[i].dtypes=='object']"
      ],
      "metadata": {
        "id": "L5r4RkyeGORW"
      },
      "execution_count": 96,
      "outputs": []
    },
    {
      "cell_type": "code",
      "source": [
        "x"
      ],
      "metadata": {
        "id": "Wr4EWPGfGORX"
      },
      "execution_count": null,
      "outputs": []
    },
    {
      "cell_type": "code",
      "source": [
        "data=data.drop(x,axis=1)\n",
        "data=data.drop(['Cabin'],axis=1)"
      ],
      "metadata": {
        "id": "whLemmXhGORZ"
      },
      "execution_count": null,
      "outputs": []
    },
    {
      "cell_type": "code",
      "source": [
        "y=data['Survived']\n",
        "X=data.drop('Survived',axis=1)"
      ],
      "metadata": {
        "id": "Qz0FETTIGORb"
      },
      "execution_count": 117,
      "outputs": []
    },
    {
      "cell_type": "code",
      "source": [
        "X"
      ],
      "metadata": {
        "id": "YX9APnl1GORd"
      },
      "execution_count": null,
      "outputs": []
    },
    {
      "source": [
        "# @title PassengerId\n",
        "\n",
        "from matplotlib import pyplot as plt\n",
        "X['PassengerId'].plot(kind='hist', bins=20, title='PassengerId')\n",
        "plt.gca().spines[['top', 'right',]].set_visible(False)"
      ],
      "cell_type": "code",
      "execution_count": null,
      "outputs": [],
      "metadata": {
        "id": "Vh5D1_uFUv7e"
      }
    },
    {
      "cell_type": "code",
      "source": [
        "from sklearn.linear_model import LogisticRegression\n",
        "\n",
        "LR=LogisticRegression()\n",
        "LR.fit(X,y)\n"
      ],
      "metadata": {
        "id": "PABiBByBGORf"
      },
      "execution_count": null,
      "outputs": []
    },
    {
      "cell_type": "code",
      "source": [
        "LR.score(X,y)"
      ],
      "metadata": {
        "id": "Oz8eLy5dGORh"
      },
      "execution_count": null,
      "outputs": []
    },
    {
      "cell_type": "code",
      "source": [
        "yp=LR.predict(X)\n",
        "yp"
      ],
      "metadata": {
        "id": "WmZ8ng6LGORj"
      },
      "execution_count": null,
      "outputs": []
    },
    {
      "cell_type": "code",
      "source": [
        "from sklearn.metrics import mean_squared_error\n",
        "msq=mean_squared_error(y,yp)\n",
        "msq"
      ],
      "metadata": {
        "id": "8gH9SnEuGORl"
      },
      "execution_count": null,
      "outputs": []
    },
    {
      "cell_type": "code",
      "source": [
        "from sklearn.svm import SVC\n",
        "clf=SVC()\n",
        "clf.fit(X,y)\n",
        "clf_score=clf.score(X,y)\n",
        "y_predict=clf.predict(X)\n",
        "y_predict"
      ],
      "metadata": {
        "id": "LrGMhZUAGORo"
      },
      "execution_count": null,
      "outputs": []
    },
    {
      "cell_type": "code",
      "source": [
        "from sklearn.metrics import mean_squared_error\n",
        "msqsvc=mean_squared_error(y,y_predict)\n",
        "msqsvc"
      ],
      "metadata": {
        "id": "TV4S2bhlGORq"
      },
      "execution_count": null,
      "outputs": []
    },
    {
      "cell_type": "code",
      "source": [
        "clf_score"
      ],
      "metadata": {
        "id": "JCybCHAuGORt"
      },
      "execution_count": null,
      "outputs": []
    },
    {
      "cell_type": "code",
      "source": [
        "from sklearn.model_selection import cross_val_score\n",
        "from sklearn.model_selection import KFold\n",
        "k_fold = KFold(n_splits = 10, shuffle=True, random_state = 0)\n",
        "clf = SVC()\n",
        "scoring = \"accuracy\"\n",
        "score = cross_val_score(clf, data, y, cv=k_fold, n_jobs=1, scoring = scoring)\n",
        "print(score)"
      ],
      "metadata": {
        "id": "eJPmm5ewGORv"
      },
      "execution_count": null,
      "outputs": []
    },
    {
      "cell_type": "code",
      "source": [
        "clf.fit(X,y)\n",
        "clf.score(X,y)"
      ],
      "metadata": {
        "id": "J5kVp3g0GORx"
      },
      "execution_count": null,
      "outputs": []
    },
    {
      "cell_type": "markdown",
      "source": [
        "# DecisionTreeClassifier"
      ],
      "metadata": {
        "id": "WC2nAFKlGORz"
      }
    },
    {
      "cell_type": "code",
      "source": [
        "from sklearn.tree import DecisionTreeClassifier\n",
        "DT_clf=DecisionTreeClassifier()\n",
        "DT_clf.fit(X,y)\n",
        "DT_score=DT_clf.score(X,y)\n",
        "DT_predict=DT_clf.predict(X)\n",
        "DT_predict\n",
        "DTMSE=mean_squared_error(y,DT_predict)\n",
        "DTMSE"
      ],
      "metadata": {
        "id": "LhwWZx15GOR6"
      },
      "execution_count": null,
      "outputs": []
    },
    {
      "cell_type": "code",
      "source": [
        "print(DT_score*100,'% is a score of DecisionTreeClassifier ')"
      ],
      "metadata": {
        "scrolled": true,
        "id": "vXd3uoWrGOR8"
      },
      "execution_count": null,
      "outputs": []
    },
    {
      "cell_type": "code",
      "source": [
        "scoring = \"accuracy\"\n",
        "score = cross_val_score(DT_clf, data, y, cv=k_fold, n_jobs=1, scoring = scoring)\n",
        "print(score)"
      ],
      "metadata": {
        "id": "4XTzaXB7GOSU"
      },
      "execution_count": null,
      "outputs": []
    }
  ]
}